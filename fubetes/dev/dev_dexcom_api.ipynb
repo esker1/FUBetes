{
 "cells": [
  {
   "cell_type": "markdown",
   "metadata": {},
   "source": [
    "#Get data from Dexcom share"
   ]
  },
  {
   "cell_type": "code",
   "execution_count": 1,
   "metadata": {
    "collapsed": false
   },
   "outputs": [
    {
     "name": "stdout",
     "output_type": "stream",
     "text": [
      "Populating the interactive namespace from numpy and matplotlib\n"
     ]
    },
    {
     "name": "stderr",
     "output_type": "stream",
     "text": [
      "/usr/local/lib/python2.7/site-packages/matplotlib/font_manager.py:273: UserWarning: Matplotlib is building the font cache using fc-list. This may take a moment.\n",
      "  warnings.warn('Matplotlib is building the font cache using fc-list. This may take a moment.')\n"
     ]
    }
   ],
   "source": [
    "%pylab inline\n",
    "import os"
   ]
  },
  {
   "cell_type": "markdown",
   "metadata": {},
   "source": [
    "##Dev functions to fetch CGM glucose values"
   ]
  },
  {
   "cell_type": "code",
   "execution_count": 17,
   "metadata": {
    "collapsed": false
   },
   "outputs": [],
   "source": [
    "import json\n",
    "import requests\n",
    "import pandas as pd\n",
    "import datetime\n",
    "\n",
    "DEFAULTS = {'applicationid': 'd89443d2-327c-4a6f-89e5-496bbb0317db',\n",
    "        'agent': \"Dexcom Share/3.0.2.11 CFNetwork/711.2.23 Darwin/14.0.0\",\n",
    "        'login_url': 'https://share1.dexcom.com/ShareWebServices/Services/General/LoginPublisherAccountByName',\n",
    "        'latest_url': 'https://share1.dexcom.com/ShareWebServices/Services/Publisher/ReadPublisherLatestGlucoseValues',\n",
    "        'accept': 'application/json',\n",
    "        'content-type': 'application/json'}\n",
    "\n",
    "#DIRECTIONS = {'NONE': 0, 'DoubleUp': 1, 'SingleUp': 2, 'FortyFiveUp': 3,\n",
    "#              'Flat': 4, 'FortyFiveDown': 5, 'SingleDown': 6, 'DoubleDown': 7,\n",
    "#              'NOT COMPUTABLE': 8, 'RATE OUT OF RANGE': 9}\n",
    "\n",
    "def authorize(account_name, account_password):\n",
    "    \"\"\"\n",
    "    Login to server\n",
    "    \n",
    "    Returns\n",
    "    -------\n",
    "    sessionid: str\n",
    "        Session ID from the server\n",
    "    \"\"\"\n",
    "    url = DEFAULTS['login_url']\n",
    "    body = {'password': account_password, 'applicationId': DEFAULTS['applicationid'], 'accountName': account_name}\n",
    "    headers = {'User-Agent': DEFAULTS['agent'], 'Content-Type': DEFAULTS['content-type'],\n",
    "               'Accept': DEFAULTS['accept']}\n",
    "    \n",
    "    response = requests.post(url, headers=headers, json=body)\n",
    "    \n",
    "    try:\n",
    "        response.raise_for_status()\n",
    "    except requests.exceptions.HTTPError as e:\n",
    "        print \"HTTPError:\", e.message\n",
    "        pass\n",
    "    \n",
    "    return response.content[1:-1]\n",
    "\n",
    "def fetch(sessionid, minutes=1440, maxcount=1):\n",
    "    \"\"\"\n",
    "    Get data from server\n",
    "    \"\"\"\n",
    "    url = DEFAULTS['latest_url']\n",
    "    url += '?sessionID={:}&minutes={:}&maxCount={:}'\\\n",
    "        .format(sessionid, minutes, maxcount)\n",
    "    headers = {'User-Agent': DEFAULTS['agent'],\n",
    "                'Content-Type': DEFAULTS['content-type'],\n",
    "                'Content-Length': 0, 'Accept': DEFAULTS['accept']}\n",
    "    \n",
    "    response = requests.post(url, headers=headers)\n",
    "    \n",
    "    try:\n",
    "        response.raise_for_status()\n",
    "    except requests.exceptions.HTTPError as e:\n",
    "        print \"HTTPError:\", e.message\n",
    "        pass\n",
    "\n",
    "    return json.loads(response.content)\n",
    "\n",
    "def dex2pandas(dex):\n",
    "    \"\"\"\n",
    "    Convert Dexcom server entries to a Pandas dataframe\n",
    "    \"\"\"\n",
    "    date = [datetime.datetime.fromtimestamp(float(d['WT'][6:-2])/1000.) for d in dex]\n",
    "    value = [d['Value'] for d in dex]\n",
    "    trend = [d['Trend'] for d in dex]\n",
    "    \n",
    "    df = pd.DataFrame({'datetime': date, 'value': value, 'trend': trend})\n",
    "    df['device'] = 'share2'\n",
    "    df['type'] = 'cgm'\n",
    "    \n",
    "    return df"
   ]
  },
  {
   "cell_type": "code",
   "execution_count": 18,
   "metadata": {
    "collapsed": false
   },
   "outputs": [
    {
     "data": {
      "text/html": [
       "<div style=\"max-height:1000px;max-width:1500px;overflow:auto;\">\n",
       "<table border=\"1\" class=\"dataframe\">\n",
       "  <thead>\n",
       "    <tr style=\"text-align: right;\">\n",
       "      <th></th>\n",
       "      <th>trend</th>\n",
       "      <th>value</th>\n",
       "    </tr>\n",
       "  </thead>\n",
       "  <tbody>\n",
       "    <tr>\n",
       "      <th>count</th>\n",
       "      <td>283.000000</td>\n",
       "      <td>283.000000</td>\n",
       "    </tr>\n",
       "    <tr>\n",
       "      <th>mean</th>\n",
       "      <td>3.964664</td>\n",
       "      <td>146.568905</td>\n",
       "    </tr>\n",
       "    <tr>\n",
       "      <th>std</th>\n",
       "      <td>0.250153</td>\n",
       "      <td>25.700637</td>\n",
       "    </tr>\n",
       "    <tr>\n",
       "      <th>min</th>\n",
       "      <td>3.000000</td>\n",
       "      <td>86.000000</td>\n",
       "    </tr>\n",
       "    <tr>\n",
       "      <th>25%</th>\n",
       "      <td>4.000000</td>\n",
       "      <td>127.000000</td>\n",
       "    </tr>\n",
       "    <tr>\n",
       "      <th>50%</th>\n",
       "      <td>4.000000</td>\n",
       "      <td>154.000000</td>\n",
       "    </tr>\n",
       "    <tr>\n",
       "      <th>75%</th>\n",
       "      <td>4.000000</td>\n",
       "      <td>169.000000</td>\n",
       "    </tr>\n",
       "    <tr>\n",
       "      <th>max</th>\n",
       "      <td>5.000000</td>\n",
       "      <td>181.000000</td>\n",
       "    </tr>\n",
       "  </tbody>\n",
       "</table>\n",
       "</div>"
      ],
      "text/plain": [
       "            trend       value\n",
       "count  283.000000  283.000000\n",
       "mean     3.964664  146.568905\n",
       "std      0.250153   25.700637\n",
       "min      3.000000   86.000000\n",
       "25%      4.000000  127.000000\n",
       "50%      4.000000  154.000000\n",
       "75%      4.000000  169.000000\n",
       "max      5.000000  181.000000"
      ]
     },
     "execution_count": 18,
     "metadata": {},
     "output_type": "execute_result"
    },
    {
     "data": {
      "image/png": "[encoded data removed]",
      "text/plain": [
       "<matplotlib.figure.Figure at 0x113d99bd0>"
      ]
     },
     "metadata": {},
     "output_type": "display_data"
    },
    {
     "data": {
      "image/png": "[encoded data removed]",
      "text/plain": [
       "<matplotlib.figure.Figure at 0x113d9ea10>"
      ]
     },
     "metadata": {},
     "output_type": "display_data"
    }
   ],
   "source": [
    "# user options (set here or set environment variables before launching notebook)\n",
    "SHARE_ACCOUNT_NAME=os.environ['SHARE_ACCOUNT_NAME']\n",
    "SHARE_PASSWORD=os.environ['SHARE_PASSWORD']\n",
    "\n",
    "sid = authorize(SHARE_ACCOUNT_NAME, SHARE_PASSWORD)\n",
    "\n",
    "dex = fetch(sid, maxcount=1000)\n",
    "\n",
    "df = dex2pandas(dex)\n",
    "\n",
    "df.plot(x='datetime', y='value')\n",
    "df.hist(column='value')\n",
    "\n",
    "df.describe()"
   ]
  },
  {
   "cell_type": "code",
   "execution_count": null,
   "metadata": {
    "collapsed": true
   },
   "outputs": [],
   "source": []
  }
 ],
 "metadata": {
  "kernelspec": {
   "display_name": "Python 2",
   "language": "python",
   "name": "python2"
  },
  "language_info": {
   "codemirror_mode": {
    "name": "ipython",
    "version": 2
   },
   "file_extension": ".py",
   "mimetype": "text/x-python",
   "name": "python",
   "nbconvert_exporter": "python",
   "pygments_lexer": "ipython2",
   "version": "2.7.10"
  }
 },
 "nbformat": 4,
 "nbformat_minor": 0
}
